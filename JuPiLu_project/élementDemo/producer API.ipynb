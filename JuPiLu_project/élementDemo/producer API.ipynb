{
 "cells": [
  {
   "cell_type": "code",
   "execution_count": null,
   "metadata": {},
   "outputs": [],
   "source": [
    "\"\"\"API ACCESS KEYS\"\"\"\n",
    "\n",
    "access_token = \"917199595-hHKfgiAyOBETMGQDLX9v8TztD5l2c1SAegyiwTQL\"\n",
    "access_token_secret = \"FUVL1B5fYK4k2LkIXihr5kn4d3w0tRorVj76JTfk3udjC\"\n",
    "consumer_key = \"sDRKN4PP26cQsMGYoctjvgxlL\"\n",
    "consumer_secret = \"tMOtdfqjfvAhzQJcRGMb17VEKbrT4RcahPJi4ydtvwJKTF66Mi\"\n",
    "\n",
    "\n",
    "from tweepy.streaming import StreamListener\n",
    "from tweepy import OAuthHandler\n",
    "from tweepy import Stream\n",
    "from kafka import KafkaProducer\n",
    "producer = KafkaProducer(bootstrap_servers='localhost:9092',api_version=(0,11,5)) #Same port as your Kafka server\n",
    "\n",
    "topic_name = \"twitterData\"\n",
    "\n",
    "\n",
    "class twitterAuth():\n",
    "    \"\"\"SET UP TWITTER AUTHENTICATION\"\"\"\n",
    "\n",
    "    def authenticateTwitterApp(self):\n",
    "        auth = OAuthHandler(consumer_key, consumer_secret)\n",
    "        auth.set_access_token(access_token, access_token_secret)\n",
    "\n",
    "        return auth\n",
    "\n",
    "\n",
    "\n",
    "class TwitterStreamer():\n",
    "\n",
    "    \"\"\"SET UP STREAMER\"\"\"\n",
    "    def __init__(self):\n",
    "        self.twitterAuth = twitterAuth()\n",
    "\n",
    "    def stream_tweets(self):\n",
    "        while True:\n",
    "            listener = ListenerTS() \n",
    "            auth = self.twitterAuth.authenticateTwitterApp()\n",
    "            stream = Stream(auth, listener)\n",
    "            stream.filter(track=[\"Apple\"], stall_warnings=True, languages= [\"en\"])\n",
    "\n",
    "\n",
    "class ListenerTS(StreamListener):\n",
    "\n",
    "    def on_data(self, raw_data):\n",
    "            producer.send(topic_name, str.encode(raw_data))\n",
    "            return True\n",
    "\n",
    "\n",
    "if __name__ == \"__main__\":\n",
    "    TS = TwitterStreamer()\n",
    "    TS.stream_tweets()"
   ]
  },
  {
   "cell_type": "code",
   "execution_count": null,
   "metadata": {},
   "outputs": [],
   "source": []
  },
  {
   "cell_type": "code",
   "execution_count": null,
   "metadata": {},
   "outputs": [],
   "source": []
  }
 ],
 "metadata": {
  "kernelspec": {
   "display_name": "Python 3",
   "language": "python",
   "name": "python3"
  },
  "language_info": {
   "codemirror_mode": {
    "name": "ipython",
    "version": 3
   },
   "file_extension": ".py",
   "mimetype": "text/x-python",
   "name": "python",
   "nbconvert_exporter": "python",
   "pygments_lexer": "ipython3",
   "version": "3.8.5"
  }
 },
 "nbformat": 4,
 "nbformat_minor": 4
}
